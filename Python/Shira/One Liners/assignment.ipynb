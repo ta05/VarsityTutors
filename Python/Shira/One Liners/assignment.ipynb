{
 "cells": [
  {
   "cell_type": "markdown",
   "metadata": {},
   "source": [
    "# One Liner Assignment"
   ]
  },
  {
   "cell_type": "markdown",
   "metadata": {},
   "source": [
    "## Example 1:\n",
    "Create a list that contains the base_num to the power of index. So for example.\n",
    "- bases_num = [10, 20, 30, 40, 50, 60, 70, 80, 90, 100]\n",
    "- index = [1, 2, 3, 4, 5, 6, 7, 8, 9, 10]\n",
    "- would create a new list [10, 400, 27000, ...]"
   ]
  },
  {
   "cell_type": "code",
   "execution_count": 3,
   "metadata": {},
   "outputs": [
    {
     "data": {
      "text/plain": [
       "[10,\n",
       " 400,\n",
       " 27000,\n",
       " 2560000,\n",
       " 312500000,\n",
       " 46656000000,\n",
       " 8235430000000,\n",
       " 1677721600000000,\n",
       " 387420489000000000,\n",
       " 100000000000000000000]"
      ]
     },
     "execution_count": 3,
     "metadata": {},
     "output_type": "execute_result"
    }
   ],
   "source": [
    "bases_num = [10, 20, 30, 40, 50, 60, 70, 80, 90, 100]\n",
    "index = [1, 2, 3, 4, 5, 6, 7, 8, 9, 10]\n",
    "[bases_num[i]**index[i] for i in range(len(index))]"
   ]
  },
  {
   "cell_type": "markdown",
   "metadata": {},
   "source": [
    "## Example 2\n",
    "Write a Python prgoram to create a lambda function that adds 15 to a given number passed in as an argument"
   ]
  },
  {
   "cell_type": "code",
   "execution_count": 4,
   "metadata": {},
   "outputs": [
    {
     "data": {
      "text/plain": [
       "<function __main__.<lambda>(x)>"
      ]
     },
     "execution_count": 4,
     "metadata": {},
     "output_type": "execute_result"
    }
   ],
   "source": [
    "lambda x : x + 15"
   ]
  },
  {
   "cell_type": "markdown",
   "metadata": {},
   "source": [
    "## Example 3\n",
    "Write a Python program to create a lambda function that multiplies argument x with argument y and prints the result"
   ]
  },
  {
   "cell_type": "code",
   "execution_count": 5,
   "metadata": {},
   "outputs": [
    {
     "data": {
      "text/plain": [
       "<function __main__.<lambda>(x, y)>"
      ]
     },
     "execution_count": 5,
     "metadata": {},
     "output_type": "execute_result"
    }
   ],
   "source": [
    "lambda x, y : print(x * y)"
   ]
  },
  {
   "cell_type": "markdown",
   "metadata": {},
   "source": [
    "## Example 4\n",
    "Write a Python program to convert all the characters into uppercase and lowercase and eliminate duplicate letters from a given sequence. Using the map function and lambda function for full credit. So if you pass in the following tuple:\n",
    "- ('a', 'b', 'E', 'f', 'a', 'i', 'o', 'U', 'a')\n",
    "- would create a list [('E', 'e'), ('A', 'a'), ('F', 'f'), ('B', 'b'), ('U', 'u'), ('O', 'o'), ('I', 'i')]"
   ]
  },
  {
   "cell_type": "code",
   "execution_count": 6,
   "metadata": {},
   "outputs": [
    {
     "data": {
      "text/plain": [
       "[('E', 'e'),\n",
       " ('A', 'a'),\n",
       " ('F', 'f'),\n",
       " ('B', 'b'),\n",
       " ('U', 'u'),\n",
       " ('O', 'o'),\n",
       " ('I', 'i')]"
      ]
     },
     "execution_count": 6,
     "metadata": {},
     "output_type": "execute_result"
    }
   ],
   "source": [
    "letters = ('a', 'b', 'E', 'f', 'a', 'i', 'o', 'U', 'a')\n",
    "list(set(map(lambda letter : (letter.upper(), letter.lower()),letters)))"
   ]
  }
 ],
 "metadata": {
  "kernelspec": {
   "display_name": "Python 3",
   "language": "python",
   "name": "python3"
  },
  "language_info": {
   "codemirror_mode": {
    "name": "ipython",
    "version": 3
   },
   "file_extension": ".py",
   "mimetype": "text/x-python",
   "name": "python",
   "nbconvert_exporter": "python",
   "pygments_lexer": "ipython3",
   "version": "3.10.1"
  }
 },
 "nbformat": 4,
 "nbformat_minor": 2
}
